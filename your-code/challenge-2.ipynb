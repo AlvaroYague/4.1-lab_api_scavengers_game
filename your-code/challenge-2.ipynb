{
 "cells": [
  {
   "cell_type": "markdown",
   "id": "threaded-asbestos",
   "metadata": {},
   "source": [
    "# Challenge 2: Count Commits\n",
    "\n",
    "Count how many commits were made in the past week.\n",
    "\n",
    "Obtain all the commits made in the past week via API, which is a JSON array that contains multiple commit objects.\n",
    "\n",
    "Count how many commit objects are contained in the array."
   ]
  },
  {
   "cell_type": "markdown",
   "id": "norwegian-praise",
   "metadata": {},
   "source": [
    "⚠️ **Remember to limit your output before submission**."
   ]
  },
  {
   "cell_type": "code",
   "execution_count": 1,
   "id": "developing-printing",
   "metadata": {},
   "outputs": [],
   "source": [
    "import json\n",
    "import requests as req"
   ]
  },
  {
   "cell_type": "code",
   "execution_count": 2,
   "id": "creative-stable",
   "metadata": {},
   "outputs": [],
   "source": [
    "with open (\"..\\\\your-code\\\\pass.txt\", \"r\") as file:\n",
    "\n",
    "    pass_ = file.read()\n",
    "\n",
    "HEADER = {\"Authorization\": \"token \" + pass_}"
   ]
  },
  {
   "cell_type": "code",
   "execution_count": 3,
   "id": "ongoing-taylor",
   "metadata": {},
   "outputs": [
    {
     "data": {
      "text/plain": [
       "<Response [200]>"
      ]
     },
     "execution_count": 3,
     "metadata": {},
     "output_type": "execute_result"
    }
   ],
   "source": [
    "url = 'https://api.github.com/repos/Ironhack-Data-Madrid-Octubre-2023/3.1-lab_intro_to_mysql'\n",
    "repos = req.get(url, headers = HEADER)\n",
    "repos"
   ]
  },
  {
   "cell_type": "code",
   "execution_count": 4,
   "metadata": {},
   "outputs": [
    {
     "data": {
      "text/plain": [
       "dict_keys(['id', 'node_id', 'name', 'full_name', 'private', 'owner', 'html_url', 'description', 'fork', 'url', 'forks_url', 'keys_url', 'collaborators_url', 'teams_url', 'hooks_url', 'issue_events_url', 'events_url', 'assignees_url', 'branches_url', 'tags_url', 'blobs_url', 'git_tags_url', 'git_refs_url', 'trees_url', 'statuses_url', 'languages_url', 'stargazers_url', 'contributors_url', 'subscribers_url', 'subscription_url', 'commits_url', 'git_commits_url', 'comments_url', 'issue_comment_url', 'contents_url', 'compare_url', 'merges_url', 'archive_url', 'downloads_url', 'issues_url', 'pulls_url', 'milestones_url', 'notifications_url', 'labels_url', 'releases_url', 'deployments_url', 'created_at', 'updated_at', 'pushed_at', 'git_url', 'ssh_url', 'clone_url', 'svn_url', 'homepage', 'size', 'stargazers_count', 'watchers_count', 'language', 'has_issues', 'has_projects', 'has_downloads', 'has_wiki', 'has_pages', 'has_discussions', 'forks_count', 'mirror_url', 'archived', 'disabled', 'open_issues_count', 'license', 'allow_forking', 'is_template', 'web_commit_signoff_required', 'topics', 'visibility', 'forks', 'open_issues', 'watchers', 'default_branch', 'permissions', 'temp_clone_token', 'organization', 'network_count', 'subscribers_count'])"
      ]
     },
     "execution_count": 4,
     "metadata": {},
     "output_type": "execute_result"
    }
   ],
   "source": [
    "repos.json().keys()"
   ]
  },
  {
   "cell_type": "code",
   "execution_count": 5,
   "metadata": {},
   "outputs": [
    {
     "data": {
      "text/plain": [
       "'https://api.github.com/repos/Ironhack-Data-Madrid-Octubre-2023/3.1-lab_intro_to_mysql/forks'"
      ]
     },
     "execution_count": 5,
     "metadata": {},
     "output_type": "execute_result"
    }
   ],
   "source": [
    "repos.json()['forks_url']"
   ]
  },
  {
   "cell_type": "code",
   "execution_count": 6,
   "metadata": {},
   "outputs": [
    {
     "data": {
      "text/plain": [
       "dict_keys(['id', 'node_id', 'name', 'full_name', 'private', 'owner', 'html_url', 'description', 'fork', 'url', 'forks_url', 'keys_url', 'collaborators_url', 'teams_url', 'hooks_url', 'issue_events_url', 'events_url', 'assignees_url', 'branches_url', 'tags_url', 'blobs_url', 'git_tags_url', 'git_refs_url', 'trees_url', 'statuses_url', 'languages_url', 'stargazers_url', 'contributors_url', 'subscribers_url', 'subscription_url', 'commits_url', 'git_commits_url', 'comments_url', 'issue_comment_url', 'contents_url', 'compare_url', 'merges_url', 'archive_url', 'downloads_url', 'issues_url', 'pulls_url', 'milestones_url', 'notifications_url', 'labels_url', 'releases_url', 'deployments_url', 'created_at', 'updated_at', 'pushed_at', 'git_url', 'ssh_url', 'clone_url', 'svn_url', 'homepage', 'size', 'stargazers_count', 'watchers_count', 'language', 'has_issues', 'has_projects', 'has_downloads', 'has_wiki', 'has_pages', 'has_discussions', 'forks_count', 'mirror_url', 'archived', 'disabled', 'open_issues_count', 'license', 'allow_forking', 'is_template', 'web_commit_signoff_required', 'topics', 'visibility', 'forks', 'open_issues', 'watchers', 'default_branch', 'permissions'])"
      ]
     },
     "execution_count": 6,
     "metadata": {},
     "output_type": "execute_result"
    }
   ],
   "source": [
    "url = 'https://api.github.com/repos/Ironhack-Data-Madrid-Octubre-2023/3.1-lab_intro_to_mysql/forks'\n",
    "repos = req.get(url, headers = HEADER)\n",
    "repos.json()[0].keys()"
   ]
  },
  {
   "cell_type": "code",
   "execution_count": 18,
   "metadata": {},
   "outputs": [
    {
     "name": "stdout",
     "output_type": "stream",
     "text": [
      "https://api.github.com/repos/luisgh87/3.1-lab_intro_to_mysql/commits{/sha}\n",
      "https://api.github.com/repos/Christelllameda/3.1-lab_intro_to_mysql/commits{/sha}\n",
      "https://api.github.com/repos/jomariapc/3.1-lab_intro_to_mysql/commits{/sha}\n",
      "https://api.github.com/repos/AlejandroCasna/3.1-lab_intro_to_mysql/commits{/sha}\n",
      "https://api.github.com/repos/EdgarAhmed/3.1-lab_intro_to_mysql/commits{/sha}\n",
      "https://api.github.com/repos/LeoBulcsu/3.1-lab_intro_to_mysql/commits{/sha}\n",
      "https://api.github.com/repos/Carolina-MH/3.1-lab_intro_to_mysql/commits{/sha}\n",
      "https://api.github.com/repos/cristianecarneiro/3.1-lab_intro_to_mysql/commits{/sha}\n",
      "https://api.github.com/repos/AlvaroYague/3.1-lab_intro_to_mysql/commits{/sha}\n",
      "https://api.github.com/repos/maluque/3.1-lab_intro_to_mysql/commits{/sha}\n",
      "https://api.github.com/repos/jvr0/3.1-lab_intro_to_mysql/commits{/sha}\n",
      "https://api.github.com/repos/SaraPazo/3.1-lab_intro_to_mysql/commits{/sha}\n",
      "https://api.github.com/repos/illegalvoidundead/3.1-lab_intro_to_mysql/commits{/sha}\n",
      "https://api.github.com/repos/yaninafontana84/3.1-lab_intro_to_mysql/commits{/sha}\n",
      "https://api.github.com/repos/charlieciordia/3.1-lab_intro_to_mysql/commits{/sha}\n",
      "https://api.github.com/repos/abelnperez/3.1-lab_intro_to_mysql/commits{/sha}\n",
      "https://api.github.com/repos/Jacobomb/3.1-lab_intro_to_mysql/commits{/sha}\n",
      "https://api.github.com/repos/Blanca95/3.1-lab_intro_to_mysql_Blanca/commits{/sha}\n",
      "https://api.github.com/repos/NoeRoson/3.1-lab_intro_to_mysql/commits{/sha}\n",
      "https://api.github.com/repos/Ankourii/3.1-lab_intro_to_mysql/commits{/sha}\n",
      "https://api.github.com/repos/arromeral/3.1-lab_intro_to_mysql/commits{/sha}\n",
      "https://api.github.com/repos/ClaraGallardo/3.1-lab_intro_to_mysql/commits{/sha}\n",
      "https://api.github.com/repos/karmelealonso/3.1-lab_intro_to_mysql/commits{/sha}\n",
      "https://api.github.com/repos/inesgcalvo/3.1-lab_intro_to_mysql/commits{/sha}\n",
      "https://api.github.com/repos/Matimengot/3.1-lab_intro_to_mysql/commits{/sha}\n",
      "https://api.github.com/repos/anderfer/3.1-lab_intro_to_mysql/commits{/sha}\n",
      "https://api.github.com/repos/Lidiavf1912/3.1-lab_intro_to_mysql/commits{/sha}\n",
      "https://api.github.com/repos/BorjaSilla/3.1-lab_intro_to_mysql_borja/commits{/sha}\n",
      "https://api.github.com/repos/Kohkitos/3.1-lab_intro_to_mysql_koh/commits{/sha}\n",
      "https://api.github.com/repos/josegzr/3.1-lab_intro_to_mysql/commits{/sha}\n"
     ]
    }
   ],
   "source": [
    "for i in range(len(repos.json())):\n",
    "    print(repos.json()[i]['commits_url'])\n"
   ]
  }
 ],
 "metadata": {
  "kernelspec": {
   "display_name": "Python 3",
   "language": "python",
   "name": "python3"
  },
  "language_info": {
   "codemirror_mode": {
    "name": "ipython",
    "version": 3
   },
   "file_extension": ".py",
   "mimetype": "text/x-python",
   "name": "python",
   "nbconvert_exporter": "python",
   "pygments_lexer": "ipython3",
   "version": "3.11.4"
  },
  "toc": {
   "base_numbering": 1,
   "nav_menu": {},
   "number_sections": true,
   "sideBar": true,
   "skip_h1_title": true,
   "title_cell": "Table of Contents",
   "title_sidebar": "Contents",
   "toc_cell": false,
   "toc_position": {
    "height": "calc(100% - 180px)",
    "left": "10px",
    "top": "150px",
    "width": "288px"
   },
   "toc_section_display": true,
   "toc_window_display": true
  }
 },
 "nbformat": 4,
 "nbformat_minor": 5
}
